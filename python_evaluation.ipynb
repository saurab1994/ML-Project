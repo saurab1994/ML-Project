{
  "cells": [
    {
      "cell_type": "markdown",
      "metadata": {
        "id": "view-in-github",
        "colab_type": "text"
      },
      "source": [
        "<a href=\"https://colab.research.google.com/github/saurab1994/ML-project/blob/main/python_evaluation.ipynb\" target=\"_parent\"><img src=\"https://colab.research.google.com/assets/colab-badge.svg\" alt=\"Open In Colab\"/></a>"
      ]
    },
    {
      "cell_type": "markdown",
      "source": [
        "Q-1 Two different numbers are called amicable numbers if the sum of the proper divisors of each is equal to the other\n",
        "number. For example, 220 and 284 are amicable numbers.\n",
        "Sum of proper divisors of 220 = 1+2+4+5+10+11+20+22+44+55+110 = 284\n",
        "Sum of proper divisors of 284 = 1+2+4+71+142 = 220\n",
        "Write a function to print pairs of amicable numbers in a range."
      ],
      "metadata": {
        "id": "gJFy9cSCzj0m"
      }
    },
    {
      "cell_type": "code",
      "execution_count": null,
      "metadata": {
        "colab": {
          "base_uri": "https://localhost:8080/"
        },
        "id": "TfcLXx8GbfKB",
        "outputId": "cb730b24-fa27-4ef5-8500-c9075d197ea0"
      },
      "outputs": [
        {
          "output_type": "stream",
          "name": "stdout",
          "text": [
            "True\n"
          ]
        }
      ],
      "source": [
        "v= [220,284]\n",
        "def amicable(v):\n",
        "    list_ =[[j for j in range(1,i) if i%j==0] for i in v ]\n",
        "    return sum(list_[0])==v[1] and sum(list_[1])==v[0]   \n",
        "print(amicable(v))        \n",
        "\n"
      ]
    },
    {
      "cell_type": "markdown",
      "source": [
        "Q-2 If all digits of a number n are multiplied by each other repeating with the product, the one-digit number obtained at last is\n",
        "called the multiplicative digital root of n. The number of times digits need to be multiplied to reach one digit is called the\n",
        "multiplicative persistence of n.\n",
        "Example: 86 -> 48 -> 32 -> 6 (MDR 6, MPersistence 3) 341 -> 12->2 (MDR 2, MPersistence 2)\n",
        "Using the function write functions MDR() and MPersistence() that input a number and return its multiplicative digital root and\n",
        "multiplicative persistence respectively"
      ],
      "metadata": {
        "id": "QeWOdGSs6ZLZ"
      }
    },
    {
      "cell_type": "code",
      "execution_count": null,
      "metadata": {
        "id": "DHcw3ymqdrIc",
        "colab": {
          "base_uri": "https://localhost:8080/"
        },
        "outputId": "94959792-3642-42be-9a64-630c19f2b22e"
      },
      "outputs": [
        {
          "output_type": "stream",
          "name": "stdout",
          "text": [
            "multiplicative digital root of 341 is 2 and multiplicative persistence is 2\n"
          ]
        }
      ],
      "source": [
        "def func(a):\n",
        "  count =0\n",
        "  flag =True\n",
        "  while flag:\n",
        "    a=list(str(a))\n",
        "    if len(a)==1:\n",
        "      return a,count\n",
        "    prod=1\n",
        "    for i in a:\n",
        "      prod =prod*int(i)\n",
        "    count+=1\n",
        "    a=prod  \n",
        "a=341 \n",
        "x,y =func(a)  \n",
        "print(f'multiplicative digital root of {a} is {int(x[0])} and multiplicative persistence is {y}')    \n"
      ]
    },
    {
      "cell_type": "markdown",
      "source": [
        "Q-3 Write a function cubesum() that accepts an integer and returns the sum of the cubes of individual digits of that number.\n",
        "Use this function to make functions PrintArmstrong() and isArmstrong() to print Armstrong numbers and to find whether is an\n",
        "Armstrong number.\n"
      ],
      "metadata": {
        "id": "wW2gNweI-x2C"
      }
    },
    {
      "cell_type": "code",
      "source": [
        "def cubesum(x):\n",
        "  x=list(str(x))\n",
        "  list_ =[int(i)**3 for i in x]\n",
        "  return sum(list_)\n",
        "def  PrintArmstrong(x):\n",
        "  if x==cubesum(x):\n",
        "    print(f'{x} is a Armstrong number')\n",
        "  else:\n",
        "     print(f'{x} is not a Armstrong number') \n",
        "def isArmstrong(x):\n",
        "  print(f'{x==cubesum(x)}')\n",
        "\n",
        "PrintArmstrong(153)\n",
        "isArmstrong(153)"
      ],
      "metadata": {
        "colab": {
          "base_uri": "https://localhost:8080/"
        },
        "id": "2mKyR2L17SCr",
        "outputId": "3eceb876-363d-4b12-ea3b-872c4b34da83"
      },
      "execution_count": null,
      "outputs": [
        {
          "output_type": "stream",
          "name": "stdout",
          "text": [
            "153 is a Armstrong number\n",
            "True\n"
          ]
        }
      ]
    },
    {
      "cell_type": "markdown",
      "source": [
        "Q-4 Write a program to print twin primes less than 1000. If two consecutive odd numbers are both primes, they are known as\n",
        "twin primes.\n"
      ],
      "metadata": {
        "id": "j5WNwWWcPeb3"
      }
    },
    {
      "cell_type": "code",
      "source": [
        "list_ =[3]\n",
        "for i in range(5,1000,2):\n",
        "  for j in range(3,i,2):\n",
        "    if i%j==0:\n",
        "      break\n",
        "  else:\n",
        "    list_.append(i)\n",
        "list_  \n",
        "\n",
        "y=[]\n",
        "for i in range(len(list_)-1):\n",
        "  l =list_[i:i+2]\n",
        "  if l[-1]-l[0]==2:\n",
        "    if(len(y)==0):\n",
        "      y=l\n",
        "    else:\n",
        "      if(y[-1]==l[0]):\n",
        "        y.append(l[-1])\n",
        "      else:\n",
        "        y.extend(l)    \n",
        "print(y)      "
      ],
      "metadata": {
        "colab": {
          "base_uri": "https://localhost:8080/"
        },
        "id": "hPMFULL9PfkO",
        "outputId": "83d563cd-02c1-4efc-832c-9a1e937c7d3f"
      },
      "execution_count": null,
      "outputs": [
        {
          "output_type": "stream",
          "name": "stdout",
          "text": [
            "[3, 5, 7, 11, 13, 17, 19, 29, 31, 41, 43, 59, 61, 71, 73, 101, 103, 107, 109, 137, 139, 149, 151, 179, 181, 191, 193, 197, 199, 227, 229, 239, 241, 269, 271, 281, 283, 311, 313, 347, 349, 419, 421, 431, 433, 461, 463, 521, 523, 569, 571, 599, 601, 617, 619, 641, 643, 659, 661, 809, 811, 821, 823, 827, 829, 857, 859, 881, 883]\n"
          ]
        }
      ]
    },
    {
      "cell_type": "markdown",
      "source": [
        "Q-5 Write a program to solve a classic ancient Chinese puzzle:\n",
        "We count 35 heads and 94 legs among the chickens and rabbits in a farm. How many rabbits and how many chickens do we\n",
        "have?\n"
      ],
      "metadata": {
        "id": "1qZlPqu7UKno"
      }
    },
    {
      "cell_type": "code",
      "source": [
        "head =35\n",
        "leg =92\n",
        "def func(x,y):\n",
        "  if (x>0 and y >0):\n",
        "    for i in range(1,x):\n",
        "      j =x-i\n",
        "      if(2*i+4*j==y):\n",
        "        return i,j\n",
        "  return -1            \n",
        "        \n",
        "if (func(head,leg)==-1):\n",
        "  print('no such combination')\n",
        "else:\n",
        "  x,y =func(head,leg)  \n",
        "  print(f'# chicken: {x} and rabit: {y}')        \n",
        "       \n"
      ],
      "metadata": {
        "colab": {
          "base_uri": "https://localhost:8080/"
        },
        "id": "s4fufM_LP2iy",
        "outputId": "f7c634e9-448e-41e1-a383-a9f0ac4d5103"
      },
      "execution_count": null,
      "outputs": [
        {
          "output_type": "stream",
          "name": "stdout",
          "text": [
            "# chicken: 24 and rabit: 11\n"
          ]
        }
      ]
    },
    {
      "cell_type": "markdown",
      "source": [
        "Q-6 Please write a program which counts and prints the numbers of each character in a string input by the console.\n",
        "If the following string is given as input to the program: abcdefgabc"
      ],
      "metadata": {
        "id": "NVoYbgPqoyAK"
      }
    },
    {
      "cell_type": "code",
      "source": [
        "u='abcdefgabc'\n",
        "def func (x):\n",
        "  x={}\n",
        "  for i in u:\n",
        "    if i not in x.keys():\n",
        "      x[i]=1\n",
        "    else:\n",
        "      x[i] =x[i]+1\n",
        "  return x\n",
        "print(func(x))              "
      ],
      "metadata": {
        "colab": {
          "base_uri": "https://localhost:8080/"
        },
        "id": "xju-DyF8mdiG",
        "outputId": "cc678203-e667-4fe6-8dad-f67925c12be5"
      },
      "execution_count": null,
      "outputs": [
        {
          "output_type": "stream",
          "name": "stdout",
          "text": [
            "{'a': 2, 'b': 2, 'c': 2, 'd': 1, 'e': 1, 'f': 1, 'g': 1}\n"
          ]
        }
      ]
    },
    {
      "cell_type": "markdown",
      "source": [
        "Q-7 Please write a binary search function which searches an item in a sorted list. The function should return the index of\n",
        "element to be searched in the list."
      ],
      "metadata": {
        "id": "_b5tLTOgr6-C"
      }
    },
    {
      "cell_type": "code",
      "source": [
        "def binary(start,end,array,value):\n",
        "  while(start<=end):\n",
        "    mid =start+(end-start)//2\n",
        "    if(a[mid]==value):\n",
        "      return mid\n",
        "    elif(a[mid]>value):\n",
        "      end=mid-1\n",
        "    elif(a[mid]<value):\n",
        "      start =mid+1\n",
        "  return -1\n",
        "start =0\n",
        "end =len(array)-1  \n",
        "print(binary(start,end,array,value))          "
      ],
      "metadata": {
        "id": "at4E5BXLV2fY"
      },
      "execution_count": null,
      "outputs": []
    },
    {
      "cell_type": "markdown",
      "source": [
        "Q-8 A website requires the users to input username and password to register. Write a program to check the validity of\n",
        "password input by users.\n",
        "Following are the criteria for checking the password:\n",
        "1. At least 1 letter between [a-z]\n",
        "2. At least 1 number between [0-9]\n",
        "1. At least 1 letter between [A-Z]\n",
        "3. At least 1 character from [$#@]\n",
        "4. Minimum length of transaction password: 6\n",
        "5. Maximum length of transaction password: 12\n",
        "Your program should accept a sequence of comma separated passwords and will check them according to the above criteria.\n",
        "Passwords that match the criteria are to be printed, each separated by a comma.\n",
        "If the following passwords are given as input to the program: ABd1234@1,a F1#,2w3E*,2We3345Then, the output of the program should be: ABd1234@1"
      ],
      "metadata": {
        "id": "A4VnmNZs5SJ9"
      }
    },
    {
      "cell_type": "code",
      "source": [
        "import string\n",
        "l_case =list(string.ascii_lowercase)\n",
        "u_case =list(string.ascii_uppercase)\n",
        "special =['$','#','@']\n",
        "num =[str(i) for i in range(10)]\n",
        "def password(x):\n",
        "  for _ in x:\n",
        "    lcase =False\n",
        "    ucase =False\n",
        "    specil_ =False\n",
        "    num_ =False\n",
        "    list_ =list(_)\n",
        "    for i in list_:\n",
        "      if i in l_case:\n",
        "        lcase =True\n",
        "      if i in u_case:\n",
        "        ucase =True  \n",
        "      if i in special:\n",
        "        specil_ =True\n",
        "      if i in num:\n",
        "        num_ =True         \n",
        "    if lcase and ucase and num_ and specil_ and len(_)>5 and len(_)<13:\n",
        "      print(_) \n",
        "password(['ABd1234@1','a F1#','2w3E*','2We3345'])         \n"
      ],
      "metadata": {
        "colab": {
          "base_uri": "https://localhost:8080/"
        },
        "id": "FFp7gI4m5T4A",
        "outputId": "7b4fc09b-f934-4239-a056-a2dc5196ea0d"
      },
      "execution_count": null,
      "outputs": [
        {
          "output_type": "stream",
          "name": "stdout",
          "text": [
            "ABd1234@1\n"
          ]
        }
      ]
    },
    {
      "cell_type": "markdown",
      "source": [
        "Q 9 Write a program that computes the net amount of a bank account based a transaction log from console input. The\n",
        "transaction log format is shown as following:<br>\n",
        "D 100\n",
        "W 200 <br>\n",
        "--D means deposit while W means withdrawal."
      ],
      "metadata": {
        "id": "dEIOxZbOlpEN"
      }
    },
    {
      "cell_type": "code",
      "source": [
        "class account_holder:\n",
        "  def __init__(self):\n",
        "    self.account =0\n",
        "  def d(self,money):\n",
        "    self.account +=money\n",
        "  def w(self,money):\n",
        "    self.account -=money \n",
        "  def statement(self):\n",
        "    print(f'Your account balance is :{self.account}')     "
      ],
      "metadata": {
        "id": "k7BXnjw2lxUd"
      },
      "execution_count": null,
      "outputs": []
    },
    {
      "cell_type": "code",
      "source": [
        "saurabh=account_holder()\n",
        "saurabh.d(300)\n",
        "saurabh.d(300)\n",
        "saurabh.w(100)\n",
        "saurabh.w(200)\n",
        "saurabh.statement()"
      ],
      "metadata": {
        "colab": {
          "base_uri": "https://localhost:8080/"
        },
        "id": "XaUudsuOnsRg",
        "outputId": "e17f430b-1924-4bdf-f1f8-d76aca10140b"
      },
      "execution_count": null,
      "outputs": [
        {
          "output_type": "stream",
          "name": "stdout",
          "text": [
            "Your account balance is :300\n"
          ]
        }
      ]
    },
    {
      "cell_type": "markdown",
      "source": [
        "Q-10 Write a program which takes 2 digits, X,Y as input and generates a 2-dimensional array. The element value in the i-th row\n",
        "and j-th column of the array should be i*j.\n"
      ],
      "metadata": {
        "id": "oy3oyphs3BnD"
      }
    },
    {
      "cell_type": "code",
      "source": [
        "def matrix(x,y):\n",
        "  c=[[0]*y for i in range(x)]\n",
        "  for i in range(len(c)):\n",
        "    for j in range(len(c[0])):\n",
        "      c[i][j] =i*j\n",
        "  return c\n",
        "print(matrix(3,4))      "
      ],
      "metadata": {
        "colab": {
          "base_uri": "https://localhost:8080/"
        },
        "id": "anzE-vuc3C74",
        "outputId": "7dbc5bf9-3fea-4244-b842-eee952a4f474"
      },
      "execution_count": null,
      "outputs": [
        {
          "output_type": "stream",
          "name": "stdout",
          "text": [
            "[[0, 0, 0, 0], [0, 1, 2, 3], [0, 2, 4, 6]]\n"
          ]
        }
      ]
    },
    {
      "cell_type": "markdown",
      "source": [
        "Q 11 Write a python program to get the sum of all digits for the given number using recursion "
      ],
      "metadata": {
        "id": "64J7trZStd2a"
      }
    },
    {
      "cell_type": "code",
      "source": [
        "x=12345\n",
        "def sum_(x):\n",
        "  if len(x)==0:\n",
        "    return 0\n",
        "  else:  \n",
        "    return (int(x[0]))+sum_(x[1:])\n",
        "print(sum_(str(x)))   \n",
        "\n"
      ],
      "metadata": {
        "colab": {
          "base_uri": "https://localhost:8080/"
        },
        "id": "CVqVXB03tfH6",
        "outputId": "13a681f5-cd49-4690-a637-eb728e22ff15"
      },
      "execution_count": null,
      "outputs": [
        {
          "output_type": "stream",
          "name": "stdout",
          "text": [
            "15\n"
          ]
        }
      ]
    }
  ],
  "metadata": {
    "colab": {
      "name": "python_evaluation.ipynb",
      "provenance": [],
      "collapsed_sections": [],
      "authorship_tag": "ABX9TyNyHYVTzYUla0z3uC+5TvRb",
      "include_colab_link": true
    },
    "kernelspec": {
      "display_name": "Python 3",
      "name": "python3"
    },
    "language_info": {
      "name": "python"
    }
  },
  "nbformat": 4,
  "nbformat_minor": 0
}